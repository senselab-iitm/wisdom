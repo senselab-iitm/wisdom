{
 "cells": [
  {
   "cell_type": "markdown",
   "source": [
    "### Import libraries/files"
   ],
   "metadata": {
    "collapsed": false
   }
  },
  {
   "cell_type": "code",
   "execution_count": 1,
   "outputs": [],
   "source": [
    "from scripts.data_related import preprocess"
   ],
   "metadata": {
    "collapsed": false,
    "ExecuteTime": {
     "end_time": "2023-12-28T06:23:07.579279473Z",
     "start_time": "2023-12-28T06:23:07.442480852Z"
    }
   }
  },
  {
   "cell_type": "code",
   "execution_count": 2,
   "outputs": [],
   "source": [
    "import numpy as np\n",
    "import random\n",
    "import matplotlib.pyplot as plt"
   ],
   "metadata": {
    "collapsed": false,
    "ExecuteTime": {
     "end_time": "2023-12-28T06:23:07.945222789Z",
     "start_time": "2023-12-28T06:23:07.763768472Z"
    }
   }
  },
  {
   "cell_type": "markdown",
   "source": [
    "### Define files that belong to a class (their annotation)"
   ],
   "metadata": {
    "collapsed": false
   }
  },
  {
   "cell_type": "code",
   "execution_count": 3,
   "metadata": {
    "collapsed": true,
    "ExecuteTime": {
     "end_time": "2023-12-28T06:23:08.243243342Z",
     "start_time": "2023-12-28T06:23:08.237847642Z"
    }
   },
   "outputs": [],
   "source": [
    "annotations_for_files = {\n",
    "    0: [\n",
    "        '../../data/human_activity_recognition/indoors/lab/lab_empty_1685504223.572277.txt',\n",
    "        '../../data/human_activity_recognition/indoors/meetingroom/meetingroom_empty_1685749485.6155138.txt', \n",
    "        '../../data/human_activity_recognition/outdoors/parking/parking_empty_1685740580.4567273.txt'\n",
    "    ],\n",
    "    1: [\n",
    "        '../../data/human_activity_recognition/indoors/lab/lab_standing_1685504666.5088024.txt', \n",
    "        '../../data/human_activity_recognition/indoors/meetingroom/meetingroom_standing_1685750223.3215554.txt', \n",
    "        '../../data/human_activity_recognition/outdoors/parking/parking_standing_1685741178.8062696.txt'\n",
    "    ],\n",
    "    2: [\n",
    "        '../../data/human_activity_recognition/indoors/lab/lab_sitting_1685505160.02395.txt', \n",
    "        '../../data/human_activity_recognition/indoors/meetingroom/meetingroom_sitting_1685751375.4694774.txt', \n",
    "        '../../data/human_activity_recognition/outdoors/parking/parking_sitting_1685741578.0545967.txt'\n",
    "    ],\n",
    "    3: [\n",
    "        '../../data/human_activity_recognition/indoors/lab/lab_sittingupdown_1685506366.902033.txt', \n",
    "        '../../data/human_activity_recognition/indoors/meetingroom/meetingroom_sittingupdown_1685751017.898958.txt', \n",
    "        '../../data/human_activity_recognition/outdoors/parking/parking_sittingupdown_1685741945.5226183.txt'\n",
    "    ],\n",
    "    4: [\n",
    "        '../../data/human_activity_recognition/indoors/lab/lab_jumping_1685508067.7758608.txt', \n",
    "        '../../data/human_activity_recognition/indoors/meetingroom/meetingroom_jumping_1685751761.0926085.txt', \n",
    "        '../../data/human_activity_recognition/outdoors/parking/parking_jumping_1685743199.2157178.txt'\n",
    "    ],\n",
    "    5: [\n",
    "        '../../data/human_activity_recognition/indoors/lab/lab_walking_fast_1685507226.876064.txt', \n",
    "        '../../data/human_activity_recognition/indoors/meetingroom/meetingroom_walking_fast_1685750603.6436868.txt', \n",
    "        '../../data/human_activity_recognition/outdoors/parking/parking_walking_fast_1685742761.396288.txt'\n",
    "    ]\n",
    "}"
   ]
  },
  {
   "cell_type": "markdown",
   "source": [
    "### Preprocess CSI log files to spectograms"
   ],
   "metadata": {
    "collapsed": false
   }
  },
  {
   "cell_type": "code",
   "execution_count": 4,
   "outputs": [
    {
     "name": "stdout",
     "output_type": "stream",
     "text": [
      "Annotated file: ../../data/human_activity_recognition/indoors/lab/lab_empty_1685504223.572277.txt\n",
      "Annotated file: ../../data/human_activity_recognition/indoors/meetingroom/meetingroom_empty_1685749485.6155138.txt\n",
      "Annotated file: ../../data/human_activity_recognition/outdoors/parking/parking_empty_1685740580.4567273.txt\n",
      "Annotated all files for annotation: 0\n",
      "Annotated file: ../../data/human_activity_recognition/indoors/lab/lab_standing_1685504666.5088024.txt\n",
      "Annotated file: ../../data/human_activity_recognition/indoors/meetingroom/meetingroom_standing_1685750223.3215554.txt\n",
      "Annotated file: ../../data/human_activity_recognition/outdoors/parking/parking_standing_1685741178.8062696.txt\n",
      "Annotated all files for annotation: 1\n",
      "Annotated file: ../../data/human_activity_recognition/indoors/lab/lab_sitting_1685505160.02395.txt\n",
      "Annotated file: ../../data/human_activity_recognition/indoors/meetingroom/meetingroom_sitting_1685751375.4694774.txt\n",
      "Annotated file: ../../data/human_activity_recognition/outdoors/parking/parking_sitting_1685741578.0545967.txt\n",
      "Annotated all files for annotation: 2\n",
      "Annotated file: ../../data/human_activity_recognition/indoors/lab/lab_sittingupdown_1685506366.902033.txt\n",
      "Annotated file: ../../data/human_activity_recognition/indoors/meetingroom/meetingroom_sittingupdown_1685751017.898958.txt\n",
      "Annotated file: ../../data/human_activity_recognition/outdoors/parking/parking_sittingupdown_1685741945.5226183.txt\n",
      "Annotated all files for annotation: 3\n",
      "Annotated file: ../../data/human_activity_recognition/indoors/lab/lab_jumping_1685508067.7758608.txt\n",
      "Annotated file: ../../data/human_activity_recognition/indoors/meetingroom/meetingroom_jumping_1685751761.0926085.txt\n",
      "Annotated file: ../../data/human_activity_recognition/outdoors/parking/parking_jumping_1685743199.2157178.txt\n",
      "Annotated all files for annotation: 4\n",
      "Annotated file: ../../data/human_activity_recognition/indoors/lab/lab_walking_slow_1685506806.8526068.txt\n",
      "Annotated file: ../../data/human_activity_recognition/indoors/meetingroom/meetingroom_walking_slow_1685749856.669379.txt\n",
      "Annotated file: ../../data/human_activity_recognition/outdoors/parking/parking_walking_slow_1685742364.119993.txt\n",
      "Annotated all files for annotation: 5\n",
      "Annotated file: ../../data/human_activity_recognition/indoors/lab/lab_walking_fast_1685507226.876064.txt\n",
      "Annotated file: ../../data/human_activity_recognition/indoors/meetingroom/meetingroom_walking_fast_1685750603.6436868.txt\n",
      "Annotated file: ../../data/human_activity_recognition/outdoors/parking/parking_walking_fast_1685742761.396288.txt\n",
      "Annotated all files for annotation: 6\n"
     ]
    }
   ],
   "source": [
    "X, Y, sample_rate_dist = preprocess.get_annotated_csi_segments_from_esp_logs(annotations_for_files, 100, False)"
   ],
   "metadata": {
    "collapsed": false,
    "ExecuteTime": {
     "end_time": "2023-12-28T06:23:34.238897068Z",
     "start_time": "2023-12-28T06:23:08.824893245Z"
    }
   }
  },
  {
   "cell_type": "code",
   "outputs": [
    {
     "name": "stdout",
     "output_type": "stream",
     "text": [
      "Shape of X: (8844, 100, 50)\n"
     ]
    }
   ],
   "source": [
    "X = preprocess.get_amplitudes(X)\n",
    "print(\"Shape of X:\", X.shape)"
   ],
   "metadata": {
    "collapsed": false,
    "ExecuteTime": {
     "end_time": "2023-12-28T06:23:34.842792403Z",
     "start_time": "2023-12-28T06:23:34.239600534Z"
    }
   },
   "execution_count": 5
  },
  {
   "cell_type": "markdown",
   "source": [
    "### Defining annotation labels"
   ],
   "metadata": {
    "collapsed": false
   }
  },
  {
   "cell_type": "code",
   "execution_count": 6,
   "outputs": [],
   "source": [
    "annotations = np.unique(Y)\n",
    "annotation_labels = {\n",
    "    0: 'Empty',\n",
    "    1: 'Standing',\n",
    "    2: 'Sitting',\n",
    "    3: 'Sitting Up and Down',\n",
    "    4: 'Jumping',\n",
    "    5: 'Slow Walking',\n",
    "    6: 'Fast Walking'\n",
    "}"
   ],
   "metadata": {
    "collapsed": false,
    "ExecuteTime": {
     "end_time": "2023-12-28T06:23:34.851703184Z",
     "start_time": "2023-12-28T06:23:34.843916251Z"
    }
   }
  },
  {
   "cell_type": "markdown",
   "source": [
    "### Plotting spectograms for each class"
   ],
   "metadata": {
    "collapsed": false
   }
  },
  {
   "cell_type": "code",
   "execution_count": null,
   "outputs": [],
   "source": [
    "plt.rcParams.update({\n",
    "    'font.size': 16, \n",
    "    'figure.figsize':(10, 10), \n",
    "    'font.family':['sans-serif'],\n",
    "    'font.sans-serif':['DejaVu Sans'],\n",
    "    'mathtext.default':'regular'\n",
    "})\n",
    "\n",
    "representative_set_size = 5  # Number of spectograms we want to display for each class\n",
    "fig, axes = plt.subplots(len(annotations), representative_set_size, sharex=True, sharey=True, constrained_layout=True)\n",
    "fig.text(0.5, -0.03, 'Sub-Carriers', ha='center')\n",
    "fig.text(-0.03, 0.5, 'Samples', va='center', rotation='vertical')\n",
    "\n",
    "for annotation in annotations:\n",
    "    annotation_idxes = np.where(Y == annotation)  # Find spectograms of a particular class\n",
    "    annotation_representative_set_idxes = random.sample(annotation_idxes[0].tolist(), representative_set_size) # Choose some samples of that class\n",
    "    for col_idx, representative_data_idx in enumerate(annotation_representative_set_idxes):\n",
    "        spectogram = axes[annotation][col_idx].pcolor(X[representative_data_idx], cmap='jet', vmin=0, vmax=20)\n",
    "        if col_idx == representative_set_size//2:\n",
    "            axes[annotation][col_idx].set_title(annotation_labels[annotation])  # Label class of the middle spectogram for each class\n",
    "\n",
    "# For color bar of the histogram\n",
    "cax = fig.add_axes([1.01, 0.075, 0.02, 0.85]) \n",
    "cbar = plt.colorbar(spectogram, cax=cax, orientation='vertical')\n",
    "cbar.set_label('Amplitude')\n",
    "\n",
    "plt.show()"
   ],
   "metadata": {
    "collapsed": false,
    "ExecuteTime": {
     "start_time": "2023-12-28T06:23:37.268410435Z"
    }
   }
  }
 ],
 "metadata": {
  "kernelspec": {
   "display_name": "Python 3",
   "language": "python",
   "name": "python3"
  },
  "language_info": {
   "codemirror_mode": {
    "name": "ipython",
    "version": 2
   },
   "file_extension": ".py",
   "mimetype": "text/x-python",
   "name": "python",
   "nbconvert_exporter": "python",
   "pygments_lexer": "ipython2",
   "version": "2.7.6"
  }
 },
 "nbformat": 4,
 "nbformat_minor": 0
}
